{
  "cells": [
    {
      "cell_type": "code",
      "execution_count": null,
      "metadata": {
        "application/vnd.databricks.v1+cell": {
          "cellMetadata": {
            "byteLimit": 2048000,
            "rowLimit": 10000
          },
          "inputWidgets": {},
          "nuid": "c090cb95-64a9-42d7-9b4a-b87236363384",
          "showTitle": false,
          "tableResultSettingsMap": {},
          "title": ""
        },
        "id": "6oTj3fyzGxl9"
      },
      "outputs": [],
      "source": [
        "df = spark.read.json(\"dbfs:/FileStore/V_OCORRENCIA_AMPLA.json\")\n",
        "df = df.drop(\"Historico\")\n",
        "df = df.drop(\"Descricao_do_Tipo\")\n"
      ]
    },
    {
      "cell_type": "code",
      "execution_count": null,
      "metadata": {
        "application/vnd.databricks.v1+cell": {
          "cellMetadata": {
            "byteLimit": 2048000,
            "rowLimit": 10000
          },
          "inputWidgets": {},
          "nuid": "67db830a-5dc5-4f1b-961a-02a717ffc5a2",
          "showTitle": false,
          "tableResultSettingsMap": {},
          "title": ""
        },
        "id": "LYbJDPk-Gxl-",
        "outputId": "7fb86787-0243-4903-d933-a0978c300355"
      },
      "outputs": [
        {
          "output_type": "display_data",
          "data": {
            "text/html": [
              "<style scoped>\n",
              "  .table-result-container {\n",
              "    max-height: 300px;\n",
              "    overflow: auto;\n",
              "  }\n",
              "  table, th, td {\n",
              "    border: 1px solid black;\n",
              "    border-collapse: collapse;\n",
              "  }\n",
              "  th, td {\n",
              "    padding: 5px;\n",
              "  }\n",
              "  th {\n",
              "    text-align: left;\n",
              "  }\n",
              "</style><div class='table-result-container'><table class='table-result'><thead style='background-color: white'><tr><th>Aerodromo_de_Destino</th><th>Aerodromo_de_Origem</th><th>CLS</th><th>Categoria_da_Aeronave</th><th>Classificacao_da_Ocorrência</th><th>Danos_a_Aeronave</th><th>Data_da_Ocorrencia</th><th>Fase_da_Operacao</th><th>Hora_da_Ocorrência</th><th>ICAO</th><th>Ilesos_Passageiros</th><th>Ilesos_Tripulantes</th><th>Latitude</th><th>Lesoes_Desconhecidas_Passageiros</th><th>Lesoes_Desconhecidas_Terceiros</th><th>Lesoes_Desconhecidas_Tripulantes</th><th>Lesoes_Fatais_Passageiros</th><th>Lesoes_Fatais_Terceiros</th><th>Lesoes_Fatais_Tripulantes</th><th>Lesoes_Graves_Passageiros</th><th>Lesoes_Graves_Terceiros</th><th>Lesoes_Graves_Tripulantes</th><th>Lesoes_Leves_Passageiros</th><th>Lesoes_Leves_Terceiros</th><th>Lesoes_Leves_Tripulantes</th><th>Longitude</th><th>Matricula</th><th>Modelo</th><th>Municipio</th><th>Nome_do_Fabricante</th><th>Numero_da_Ficha</th><th>Numero_da_Ocorrencia</th><th>Numero_de_Assentos</th><th>Operacao</th><th>Operador</th><th>Operador_Padronizado</th><th>PMD</th><th>PSSO</th><th>Regiao</th><th>Tipo_ICAO</th><th>Tipo_de_Aerodromo</th><th>Tipo_de_Ocorrencia</th><th>UF</th></tr></thead><tbody><tr><td>SBKP</td><td>SBSL</td><td>L2J</td><td>TPR</td><td>Incidente</td><td>Nenhum</td><td>2022-08-11</td><td>Cruzeiro</td><td>05:31:00</td><td>SBPJ</td><td>null</td><td>2</td><td>null</td><td>null</td><td>null</td><td>null</td><td>null</td><td>null</td><td>null</td><td>null</td><td>null</td><td>null</td><td>null</td><td>null</td><td>null</td><td>null</td><td>PRAYJ</td><td>ERJ 190-200 LR</td><td>PALMAS</td><td>EMBRAER</td><td>2022722007</td><td>33947</td><td>125</td><td>Voo Regular</td><td>AZUL LINHAS AÉREAS BRASILEIRAS S.A.</td><td>AZUL LINHAS AÉREAS BRASILEIRAS S.A.</td><td>50790</td><td>verdadeiro</td><td>Norte</td><td>E195</td><td>Público</td><td>SCF-NP</td><td>TO</td></tr><tr><td>SBCX</td><td>SBKP</td><td>L2J</td><td>TPR</td><td>Incidente Grave</td><td>Leve</td><td>2021-08-06</td><td>Pouso</td><td>16:59</td><td>SBCX</td><td>135</td><td>5</td><td>-29,1956</td><td>null</td><td>null</td><td>null</td><td>null</td><td>null</td><td>null</td><td>null</td><td>null</td><td>null</td><td>null</td><td>null</td><td>null</td><td>-51,1897</td><td>PRPJN</td><td>ERJ 190-400</td><td>CAXIAS DO SUL</td><td>EMBRAER</td><td>202140534</td><td>29123</td><td>143</td><td>Voo Regular</td><td>AZUL LINHAS AEREAS BRASILEIRAS S.A</td><td>AZUL</td><td>61500</td><td>verdadeiro</td><td>Sul</td><td>E295</td><td>Público</td><td>ARC</td><td>RS</td></tr><tr><td>null</td><td>null</td><td>L1P</td><td>S11</td><td>Incidente Grave</td><td>Leve</td><td>2022-05-21</td><td>Manobra</td><td>12:25</td><td>Fora de Aeródromo</td><td>null</td><td>1</td><td>-22,0411</td><td>null</td><td>null</td><td>null</td><td>null</td><td>null</td><td>null</td><td>null</td><td>null</td><td>null</td><td>null</td><td>null</td><td>null</td><td>-54,4103</td><td>PTGGQ</td><td>EMB-201</td><td>DOURADOS</td><td>NEIVA</td><td>2022293670</td><td>32189</td><td>1</td><td>Operação Agrícola</td><td>FIGUEIREDO AVIAÇÃO AGRÍCOLA EIRELI</td><td>FIGUEIREDO AVIAÇÃO AGRÍCOLA EIRELI</td><td>1800</td><td>verdadeiro</td><td>Centro-Oeste</td><td>IPAN</td><td>-</td><td>LALT</td><td>MS</td></tr><tr><td>SBCY</td><td>SDAM</td><td>L1T</td><td>TPP</td><td>Incidente</td><td>Leve</td><td>2022-02-12</td><td>Decolagem</td><td>15:30</td><td>SDAM</td><td>2</td><td>1</td><td>-22,8592</td><td>null</td><td>null</td><td>null</td><td>null</td><td>null</td><td>null</td><td>null</td><td>null</td><td>null</td><td>null</td><td>null</td><td>null</td><td>-47,1081</td><td>PRVZE</td><td>PC-12/47E</td><td>CAMPINAS</td><td>PILATUS</td><td>2022354545</td><td>32190</td><td>10</td><td>Voo Privado</td><td>FENIX PARTICIPACOES LTDA</td><td>FENIX PARTICIPACOES LTDA</td><td>4740</td><td>verdadeiro</td><td>Sudeste</td><td>PC12</td><td>Público</td><td>BIRD</td><td>SP</td></tr><tr><td>SIYL</td><td>SIYL</td><td>H2T</td><td>TPP</td><td>Incidente</td><td>Leve</td><td>2022-06-26</td><td>Estacionamento</td><td>13:45</td><td>SDAM</td><td>3</td><td>2</td><td>-22,8592</td><td>null</td><td>null</td><td>null</td><td>null</td><td>null</td><td>null</td><td>null</td><td>null</td><td>null</td><td>null</td><td>null</td><td>null</td><td>-47,1081</td><td>PRPIN</td><td>A109E</td><td>CAMPINAS</td><td>AGUSTA</td><td>2022125796</td><td>32726</td><td>8</td><td>Voo Privado</td><td>ANAPE EMPREENDIMENTOS IMOBILIÁRIOS-EIRELI</td><td>ANAPE EMPREENDIMENTOS IMOBILIÁRIOS-EIRELI</td><td>3000</td><td>verdadeiro</td><td>Sudeste</td><td>A109</td><td>Público</td><td>GCOL</td><td>SP</td></tr></tbody></table></div>"
            ]
          },
          "metadata": {
            "application/vnd.databricks.v1+output": {
              "addedWidgets": {},
              "aggData": [],
              "aggError": "",
              "aggOverflow": false,
              "aggSchema": [],
              "aggSeriesLimitReached": false,
              "aggType": "",
              "arguments": {},
              "columnCustomDisplayInfos": {},
              "data": [
                [
                  "SBKP",
                  "SBSL",
                  "L2J",
                  "TPR",
                  "Incidente",
                  "Nenhum",
                  "2022-08-11",
                  "Cruzeiro",
                  "05:31:00",
                  "SBPJ",
                  null,
                  "2",
                  null,
                  null,
                  null,
                  null,
                  null,
                  null,
                  null,
                  null,
                  null,
                  null,
                  null,
                  null,
                  null,
                  null,
                  "PRAYJ",
                  "ERJ 190-200 LR",
                  "PALMAS",
                  "EMBRAER",
                  "2022722007",
                  "33947",
                  "125",
                  "Voo Regular",
                  "AZUL LINHAS AÉREAS BRASILEIRAS S.A.",
                  "AZUL LINHAS AÉREAS BRASILEIRAS S.A.",
                  "50790",
                  "verdadeiro",
                  "Norte",
                  "E195",
                  "Público",
                  "SCF-NP",
                  "TO"
                ],
                [
                  "SBCX",
                  "SBKP",
                  "L2J",
                  "TPR",
                  "Incidente Grave",
                  "Leve",
                  "2021-08-06",
                  "Pouso",
                  "16:59",
                  "SBCX",
                  "135",
                  "5",
                  "-29,1956",
                  null,
                  null,
                  null,
                  null,
                  null,
                  null,
                  null,
                  null,
                  null,
                  null,
                  null,
                  null,
                  "-51,1897",
                  "PRPJN",
                  "ERJ 190-400",
                  "CAXIAS DO SUL",
                  "EMBRAER",
                  "202140534",
                  "29123",
                  "143",
                  "Voo Regular",
                  "AZUL LINHAS AEREAS BRASILEIRAS S.A",
                  "AZUL",
                  "61500",
                  "verdadeiro",
                  "Sul",
                  "E295",
                  "Público",
                  "ARC",
                  "RS"
                ],
                [
                  null,
                  null,
                  "L1P",
                  "S11",
                  "Incidente Grave",
                  "Leve",
                  "2022-05-21",
                  "Manobra",
                  "12:25",
                  "Fora de Aeródromo",
                  null,
                  "1",
                  "-22,0411",
                  null,
                  null,
                  null,
                  null,
                  null,
                  null,
                  null,
                  null,
                  null,
                  null,
                  null,
                  null,
                  "-54,4103",
                  "PTGGQ",
                  "EMB-201",
                  "DOURADOS",
                  "NEIVA",
                  "2022293670",
                  "32189",
                  "1",
                  "Operação Agrícola",
                  "FIGUEIREDO AVIAÇÃO AGRÍCOLA EIRELI",
                  "FIGUEIREDO AVIAÇÃO AGRÍCOLA EIRELI",
                  "1800",
                  "verdadeiro",
                  "Centro-Oeste",
                  "IPAN",
                  "-",
                  "LALT",
                  "MS"
                ],
                [
                  "SBCY",
                  "SDAM",
                  "L1T",
                  "TPP",
                  "Incidente",
                  "Leve",
                  "2022-02-12",
                  "Decolagem",
                  "15:30",
                  "SDAM",
                  "2",
                  "1",
                  "-22,8592",
                  null,
                  null,
                  null,
                  null,
                  null,
                  null,
                  null,
                  null,
                  null,
                  null,
                  null,
                  null,
                  "-47,1081",
                  "PRVZE",
                  "PC-12/47E",
                  "CAMPINAS",
                  "PILATUS",
                  "2022354545",
                  "32190",
                  "10",
                  "Voo Privado",
                  "FENIX PARTICIPACOES LTDA",
                  "FENIX PARTICIPACOES LTDA",
                  "4740",
                  "verdadeiro",
                  "Sudeste",
                  "PC12",
                  "Público",
                  "BIRD",
                  "SP"
                ],
                [
                  "SIYL",
                  "SIYL",
                  "H2T",
                  "TPP",
                  "Incidente",
                  "Leve",
                  "2022-06-26",
                  "Estacionamento",
                  "13:45",
                  "SDAM",
                  "3",
                  "2",
                  "-22,8592",
                  null,
                  null,
                  null,
                  null,
                  null,
                  null,
                  null,
                  null,
                  null,
                  null,
                  null,
                  null,
                  "-47,1081",
                  "PRPIN",
                  "A109E",
                  "CAMPINAS",
                  "AGUSTA",
                  "2022125796",
                  "32726",
                  "8",
                  "Voo Privado",
                  "ANAPE EMPREENDIMENTOS IMOBILIÁRIOS-EIRELI",
                  "ANAPE EMPREENDIMENTOS IMOBILIÁRIOS-EIRELI",
                  "3000",
                  "verdadeiro",
                  "Sudeste",
                  "A109",
                  "Público",
                  "GCOL",
                  "SP"
                ]
              ],
              "datasetInfos": [],
              "dbfsResultPath": null,
              "isJsonSchema": true,
              "metadata": {},
              "overflow": false,
              "plotOptions": {
                "customPlotOptions": {},
                "displayType": "table",
                "pivotAggregation": null,
                "pivotColumns": null,
                "xColumns": null,
                "yColumns": null
              },
              "removedWidgets": [],
              "schema": [
                {
                  "metadata": "{}",
                  "name": "Aerodromo_de_Destino",
                  "type": "\"string\""
                },
                {
                  "metadata": "{}",
                  "name": "Aerodromo_de_Origem",
                  "type": "\"string\""
                },
                {
                  "metadata": "{}",
                  "name": "CLS",
                  "type": "\"string\""
                },
                {
                  "metadata": "{}",
                  "name": "Categoria_da_Aeronave",
                  "type": "\"string\""
                },
                {
                  "metadata": "{}",
                  "name": "Classificacao_da_Ocorrência",
                  "type": "\"string\""
                },
                {
                  "metadata": "{}",
                  "name": "Danos_a_Aeronave",
                  "type": "\"string\""
                },
                {
                  "metadata": "{}",
                  "name": "Data_da_Ocorrencia",
                  "type": "\"string\""
                },
                {
                  "metadata": "{}",
                  "name": "Fase_da_Operacao",
                  "type": "\"string\""
                },
                {
                  "metadata": "{}",
                  "name": "Hora_da_Ocorrência",
                  "type": "\"string\""
                },
                {
                  "metadata": "{}",
                  "name": "ICAO",
                  "type": "\"string\""
                },
                {
                  "metadata": "{}",
                  "name": "Ilesos_Passageiros",
                  "type": "\"string\""
                },
                {
                  "metadata": "{}",
                  "name": "Ilesos_Tripulantes",
                  "type": "\"string\""
                },
                {
                  "metadata": "{}",
                  "name": "Latitude",
                  "type": "\"string\""
                },
                {
                  "metadata": "{}",
                  "name": "Lesoes_Desconhecidas_Passageiros",
                  "type": "\"string\""
                },
                {
                  "metadata": "{}",
                  "name": "Lesoes_Desconhecidas_Terceiros",
                  "type": "\"string\""
                },
                {
                  "metadata": "{}",
                  "name": "Lesoes_Desconhecidas_Tripulantes",
                  "type": "\"string\""
                },
                {
                  "metadata": "{}",
                  "name": "Lesoes_Fatais_Passageiros",
                  "type": "\"string\""
                },
                {
                  "metadata": "{}",
                  "name": "Lesoes_Fatais_Terceiros",
                  "type": "\"string\""
                },
                {
                  "metadata": "{}",
                  "name": "Lesoes_Fatais_Tripulantes",
                  "type": "\"string\""
                },
                {
                  "metadata": "{}",
                  "name": "Lesoes_Graves_Passageiros",
                  "type": "\"string\""
                },
                {
                  "metadata": "{}",
                  "name": "Lesoes_Graves_Terceiros",
                  "type": "\"string\""
                },
                {
                  "metadata": "{}",
                  "name": "Lesoes_Graves_Tripulantes",
                  "type": "\"string\""
                },
                {
                  "metadata": "{}",
                  "name": "Lesoes_Leves_Passageiros",
                  "type": "\"string\""
                },
                {
                  "metadata": "{}",
                  "name": "Lesoes_Leves_Terceiros",
                  "type": "\"string\""
                },
                {
                  "metadata": "{}",
                  "name": "Lesoes_Leves_Tripulantes",
                  "type": "\"string\""
                },
                {
                  "metadata": "{}",
                  "name": "Longitude",
                  "type": "\"string\""
                },
                {
                  "metadata": "{}",
                  "name": "Matricula",
                  "type": "\"string\""
                },
                {
                  "metadata": "{}",
                  "name": "Modelo",
                  "type": "\"string\""
                },
                {
                  "metadata": "{}",
                  "name": "Municipio",
                  "type": "\"string\""
                },
                {
                  "metadata": "{}",
                  "name": "Nome_do_Fabricante",
                  "type": "\"string\""
                },
                {
                  "metadata": "{}",
                  "name": "Numero_da_Ficha",
                  "type": "\"string\""
                },
                {
                  "metadata": "{}",
                  "name": "Numero_da_Ocorrencia",
                  "type": "\"string\""
                },
                {
                  "metadata": "{}",
                  "name": "Numero_de_Assentos",
                  "type": "\"string\""
                },
                {
                  "metadata": "{}",
                  "name": "Operacao",
                  "type": "\"string\""
                },
                {
                  "metadata": "{}",
                  "name": "Operador",
                  "type": "\"string\""
                },
                {
                  "metadata": "{}",
                  "name": "Operador_Padronizado",
                  "type": "\"string\""
                },
                {
                  "metadata": "{}",
                  "name": "PMD",
                  "type": "\"string\""
                },
                {
                  "metadata": "{}",
                  "name": "PSSO",
                  "type": "\"string\""
                },
                {
                  "metadata": "{}",
                  "name": "Regiao",
                  "type": "\"string\""
                },
                {
                  "metadata": "{}",
                  "name": "Tipo_ICAO",
                  "type": "\"string\""
                },
                {
                  "metadata": "{}",
                  "name": "Tipo_de_Aerodromo",
                  "type": "\"string\""
                },
                {
                  "metadata": "{}",
                  "name": "Tipo_de_Ocorrencia",
                  "type": "\"string\""
                },
                {
                  "metadata": "{}",
                  "name": "UF",
                  "type": "\"string\""
                }
              ],
              "type": "table"
            }
          }
        }
      ],
      "source": [
        "display(df.limit(5))\n"
      ]
    },
    {
      "cell_type": "code",
      "execution_count": null,
      "metadata": {
        "application/vnd.databricks.v1+cell": {
          "cellMetadata": {
            "byteLimit": 2048000,
            "rowLimit": 10000
          },
          "inputWidgets": {},
          "nuid": "c9011bb8-1219-499d-b666-68e9f96be434",
          "showTitle": false,
          "tableResultSettingsMap": {},
          "title": ""
        },
        "id": "kV00KsE5Gxl_",
        "outputId": "0fa27c98-16ea-43e1-a5a1-598298a85cfc"
      },
      "outputs": [
        {
          "output_type": "stream",
          "name": "stdout",
          "text": [
            "['Aerodromo_de_Destino', 'Aerodromo_de_Origem', 'CLS', 'Categoria_da_Aeronave', 'Classificacao_da_Ocorrência', 'Danos_a_Aeronave', 'Data_da_Ocorrencia', 'Fase_da_Operacao', 'Hora_da_Ocorrência', 'ICAO', 'Ilesos_Passageiros', 'Ilesos_Tripulantes', 'Latitude', 'Lesoes_Desconhecidas_Passageiros', 'Lesoes_Desconhecidas_Terceiros', 'Lesoes_Desconhecidas_Tripulantes', 'Lesoes_Fatais_Passageiros', 'Lesoes_Fatais_Terceiros', 'Lesoes_Fatais_Tripulantes', 'Lesoes_Graves_Passageiros', 'Lesoes_Graves_Terceiros', 'Lesoes_Graves_Tripulantes', 'Lesoes_Leves_Passageiros', 'Lesoes_Leves_Terceiros', 'Lesoes_Leves_Tripulantes', 'Longitude', 'Matricula', 'Modelo', 'Municipio', 'Nome_do_Fabricante', 'Numero_da_Ficha', 'Numero_da_Ocorrencia', 'Numero_de_Assentos', 'Operacao', 'Operador', 'Operador_Padronizado', 'PMD', 'PSSO', 'Regiao', 'Tipo_ICAO', 'Tipo_de_Aerodromo', 'Tipo_de_Ocorrencia', 'UF']\n"
          ]
        }
      ],
      "source": [
        "print(df.columns)"
      ]
    },
    {
      "cell_type": "code",
      "execution_count": null,
      "metadata": {
        "application/vnd.databricks.v1+cell": {
          "cellMetadata": {
            "byteLimit": 2048000,
            "rowLimit": 10000
          },
          "inputWidgets": {},
          "nuid": "785022ff-70e8-40f6-964f-6ecac9b44339",
          "showTitle": false,
          "tableResultSettingsMap": {},
          "title": ""
        },
        "id": "bO9dLtrRGxl_",
        "outputId": "52507cf6-cf00-4d88-a081-b2f468637df4"
      },
      "outputs": [
        {
          "output_type": "display_data",
          "data": {
            "text/html": [
              "<style scoped>\n",
              "  .table-result-container {\n",
              "    max-height: 300px;\n",
              "    overflow: auto;\n",
              "  }\n",
              "  table, th, td {\n",
              "    border: 1px solid black;\n",
              "    border-collapse: collapse;\n",
              "  }\n",
              "  th, td {\n",
              "    padding: 5px;\n",
              "  }\n",
              "  th {\n",
              "    text-align: left;\n",
              "  }\n",
              "</style><div class='table-result-container'><table class='table-result'><thead style='background-color: white'><tr><th>Aerodromo_de_Destino</th><th>Aerodromo_de_Origem</th><th>CLS</th><th>Categoria_da_Aeronave</th><th>Classificacao_da_Ocorrência</th><th>Danos_a_Aeronave</th><th>Data_da_Ocorrencia</th><th>Fase_da_Operacao</th><th>Hora_da_Ocorrência</th><th>ICAO</th><th>Ilesos_Passageiros</th><th>Ilesos_Tripulantes</th><th>Latitude</th><th>Lesoes_Desconhecidas_Passageiros</th><th>Lesoes_Desconhecidas_Terceiros</th><th>Lesoes_Desconhecidas_Tripulantes</th><th>Lesoes_Fatais_Passageiros</th><th>Lesoes_Fatais_Terceiros</th><th>Lesoes_Fatais_Tripulantes</th><th>Lesoes_Graves_Passageiros</th><th>Lesoes_Graves_Terceiros</th><th>Lesoes_Graves_Tripulantes</th><th>Lesoes_Leves_Passageiros</th><th>Lesoes_Leves_Terceiros</th><th>Lesoes_Leves_Tripulantes</th><th>Longitude</th><th>Matricula</th><th>Modelo</th><th>Municipio</th><th>Nome_do_Fabricante</th><th>Numero_da_Ficha</th><th>Numero_da_Ocorrencia</th><th>Numero_de_Assentos</th><th>Operacao</th><th>Operador</th><th>Operador_Padronizado</th><th>PMD</th><th>PSSO</th><th>Regiao</th><th>Tipo_ICAO</th><th>Tipo_de_Aerodromo</th><th>Tipo_de_Ocorrencia</th><th>UF</th></tr></thead><tbody><tr><td>SBKP</td><td>SBSL</td><td>L2J</td><td>TPR</td><td>Incidente</td><td>Nenhum</td><td>2022-08-11</td><td>Cruzeiro</td><td>05:31:00</td><td>SBPJ</td><td>Sem Registro</td><td>2</td><td>Sem Registro</td><td>null</td><td>null</td><td>null</td><td>null</td><td>null</td><td>null</td><td>null</td><td>null</td><td>null</td><td>null</td><td>null</td><td>null</td><td>null</td><td>PRAYJ</td><td>ERJ 190-200 LR</td><td>PALMAS</td><td>EMBRAER</td><td>2022722007</td><td>33947</td><td>125</td><td>Voo Regular</td><td>AZUL LINHAS AÉREAS BRASILEIRAS S.A.</td><td>AZUL LINHAS AÉREAS BRASILEIRAS S.A.</td><td>50790</td><td>verdadeiro</td><td>Norte</td><td>E195</td><td>Público</td><td>SCF-NP</td><td>TO</td></tr><tr><td>SBCX</td><td>SBKP</td><td>L2J</td><td>TPR</td><td>Incidente Grave</td><td>Leve</td><td>2021-08-06</td><td>Pouso</td><td>16:59</td><td>SBCX</td><td>135</td><td>5</td><td>-29,1956</td><td>null</td><td>null</td><td>null</td><td>null</td><td>null</td><td>null</td><td>null</td><td>null</td><td>null</td><td>null</td><td>null</td><td>null</td><td>-51,1897</td><td>PRPJN</td><td>ERJ 190-400</td><td>CAXIAS DO SUL</td><td>EMBRAER</td><td>202140534</td><td>29123</td><td>143</td><td>Voo Regular</td><td>AZUL LINHAS AEREAS BRASILEIRAS S.A</td><td>AZUL</td><td>61500</td><td>verdadeiro</td><td>Sul</td><td>E295</td><td>Público</td><td>ARC</td><td>RS</td></tr><tr><td>Sem Registro</td><td>Sem Registro</td><td>L1P</td><td>S11</td><td>Incidente Grave</td><td>Leve</td><td>2022-05-21</td><td>Manobra</td><td>12:25</td><td>Fora de Aeródromo</td><td>Sem Registro</td><td>1</td><td>-22,0411</td><td>null</td><td>null</td><td>null</td><td>null</td><td>null</td><td>null</td><td>null</td><td>null</td><td>null</td><td>null</td><td>null</td><td>null</td><td>-54,4103</td><td>PTGGQ</td><td>EMB-201</td><td>DOURADOS</td><td>NEIVA</td><td>2022293670</td><td>32189</td><td>1</td><td>Operação Agrícola</td><td>FIGUEIREDO AVIAÇÃO AGRÍCOLA EIRELI</td><td>FIGUEIREDO AVIAÇÃO AGRÍCOLA EIRELI</td><td>1800</td><td>verdadeiro</td><td>Centro-Oeste</td><td>IPAN</td><td>-</td><td>LALT</td><td>MS</td></tr><tr><td>SBCY</td><td>SDAM</td><td>L1T</td><td>TPP</td><td>Incidente</td><td>Leve</td><td>2022-02-12</td><td>Decolagem</td><td>15:30</td><td>SDAM</td><td>2</td><td>1</td><td>-22,8592</td><td>null</td><td>null</td><td>null</td><td>null</td><td>null</td><td>null</td><td>null</td><td>null</td><td>null</td><td>null</td><td>null</td><td>null</td><td>-47,1081</td><td>PRVZE</td><td>PC-12/47E</td><td>CAMPINAS</td><td>PILATUS</td><td>2022354545</td><td>32190</td><td>10</td><td>Voo Privado</td><td>FENIX PARTICIPACOES LTDA</td><td>FENIX PARTICIPACOES LTDA</td><td>4740</td><td>verdadeiro</td><td>Sudeste</td><td>PC12</td><td>Público</td><td>BIRD</td><td>SP</td></tr><tr><td>SIYL</td><td>SIYL</td><td>H2T</td><td>TPP</td><td>Incidente</td><td>Leve</td><td>2022-06-26</td><td>Estacionamento</td><td>13:45</td><td>SDAM</td><td>3</td><td>2</td><td>-22,8592</td><td>null</td><td>null</td><td>null</td><td>null</td><td>null</td><td>null</td><td>null</td><td>null</td><td>null</td><td>null</td><td>null</td><td>null</td><td>-47,1081</td><td>PRPIN</td><td>A109E</td><td>CAMPINAS</td><td>AGUSTA</td><td>2022125796</td><td>32726</td><td>8</td><td>Voo Privado</td><td>ANAPE EMPREENDIMENTOS IMOBILIÁRIOS-EIRELI</td><td>ANAPE EMPREENDIMENTOS IMOBILIÁRIOS-EIRELI</td><td>3000</td><td>verdadeiro</td><td>Sudeste</td><td>A109</td><td>Público</td><td>GCOL</td><td>SP</td></tr></tbody></table></div>"
            ]
          },
          "metadata": {
            "application/vnd.databricks.v1+output": {
              "addedWidgets": {},
              "aggData": [],
              "aggError": "",
              "aggOverflow": false,
              "aggSchema": [],
              "aggSeriesLimitReached": false,
              "aggType": "",
              "arguments": {},
              "columnCustomDisplayInfos": {},
              "data": [
                [
                  "SBKP",
                  "SBSL",
                  "L2J",
                  "TPR",
                  "Incidente",
                  "Nenhum",
                  "2022-08-11",
                  "Cruzeiro",
                  "05:31:00",
                  "SBPJ",
                  "Sem Registro",
                  "2",
                  "Sem Registro",
                  null,
                  null,
                  null,
                  null,
                  null,
                  null,
                  null,
                  null,
                  null,
                  null,
                  null,
                  null,
                  null,
                  "PRAYJ",
                  "ERJ 190-200 LR",
                  "PALMAS",
                  "EMBRAER",
                  "2022722007",
                  "33947",
                  "125",
                  "Voo Regular",
                  "AZUL LINHAS AÉREAS BRASILEIRAS S.A.",
                  "AZUL LINHAS AÉREAS BRASILEIRAS S.A.",
                  "50790",
                  "verdadeiro",
                  "Norte",
                  "E195",
                  "Público",
                  "SCF-NP",
                  "TO"
                ],
                [
                  "SBCX",
                  "SBKP",
                  "L2J",
                  "TPR",
                  "Incidente Grave",
                  "Leve",
                  "2021-08-06",
                  "Pouso",
                  "16:59",
                  "SBCX",
                  "135",
                  "5",
                  "-29,1956",
                  null,
                  null,
                  null,
                  null,
                  null,
                  null,
                  null,
                  null,
                  null,
                  null,
                  null,
                  null,
                  "-51,1897",
                  "PRPJN",
                  "ERJ 190-400",
                  "CAXIAS DO SUL",
                  "EMBRAER",
                  "202140534",
                  "29123",
                  "143",
                  "Voo Regular",
                  "AZUL LINHAS AEREAS BRASILEIRAS S.A",
                  "AZUL",
                  "61500",
                  "verdadeiro",
                  "Sul",
                  "E295",
                  "Público",
                  "ARC",
                  "RS"
                ],
                [
                  "Sem Registro",
                  "Sem Registro",
                  "L1P",
                  "S11",
                  "Incidente Grave",
                  "Leve",
                  "2022-05-21",
                  "Manobra",
                  "12:25",
                  "Fora de Aeródromo",
                  "Sem Registro",
                  "1",
                  "-22,0411",
                  null,
                  null,
                  null,
                  null,
                  null,
                  null,
                  null,
                  null,
                  null,
                  null,
                  null,
                  null,
                  "-54,4103",
                  "PTGGQ",
                  "EMB-201",
                  "DOURADOS",
                  "NEIVA",
                  "2022293670",
                  "32189",
                  "1",
                  "Operação Agrícola",
                  "FIGUEIREDO AVIAÇÃO AGRÍCOLA EIRELI",
                  "FIGUEIREDO AVIAÇÃO AGRÍCOLA EIRELI",
                  "1800",
                  "verdadeiro",
                  "Centro-Oeste",
                  "IPAN",
                  "-",
                  "LALT",
                  "MS"
                ],
                [
                  "SBCY",
                  "SDAM",
                  "L1T",
                  "TPP",
                  "Incidente",
                  "Leve",
                  "2022-02-12",
                  "Decolagem",
                  "15:30",
                  "SDAM",
                  "2",
                  "1",
                  "-22,8592",
                  null,
                  null,
                  null,
                  null,
                  null,
                  null,
                  null,
                  null,
                  null,
                  null,
                  null,
                  null,
                  "-47,1081",
                  "PRVZE",
                  "PC-12/47E",
                  "CAMPINAS",
                  "PILATUS",
                  "2022354545",
                  "32190",
                  "10",
                  "Voo Privado",
                  "FENIX PARTICIPACOES LTDA",
                  "FENIX PARTICIPACOES LTDA",
                  "4740",
                  "verdadeiro",
                  "Sudeste",
                  "PC12",
                  "Público",
                  "BIRD",
                  "SP"
                ],
                [
                  "SIYL",
                  "SIYL",
                  "H2T",
                  "TPP",
                  "Incidente",
                  "Leve",
                  "2022-06-26",
                  "Estacionamento",
                  "13:45",
                  "SDAM",
                  "3",
                  "2",
                  "-22,8592",
                  null,
                  null,
                  null,
                  null,
                  null,
                  null,
                  null,
                  null,
                  null,
                  null,
                  null,
                  null,
                  "-47,1081",
                  "PRPIN",
                  "A109E",
                  "CAMPINAS",
                  "AGUSTA",
                  "2022125796",
                  "32726",
                  "8",
                  "Voo Privado",
                  "ANAPE EMPREENDIMENTOS IMOBILIÁRIOS-EIRELI",
                  "ANAPE EMPREENDIMENTOS IMOBILIÁRIOS-EIRELI",
                  "3000",
                  "verdadeiro",
                  "Sudeste",
                  "A109",
                  "Público",
                  "GCOL",
                  "SP"
                ]
              ],
              "datasetInfos": [],
              "dbfsResultPath": null,
              "isJsonSchema": true,
              "metadata": {},
              "overflow": false,
              "plotOptions": {
                "customPlotOptions": {},
                "displayType": "table",
                "pivotAggregation": null,
                "pivotColumns": null,
                "xColumns": null,
                "yColumns": null
              },
              "removedWidgets": [],
              "schema": [
                {
                  "metadata": "{}",
                  "name": "Aerodromo_de_Destino",
                  "type": "\"string\""
                },
                {
                  "metadata": "{}",
                  "name": "Aerodromo_de_Origem",
                  "type": "\"string\""
                },
                {
                  "metadata": "{}",
                  "name": "CLS",
                  "type": "\"string\""
                },
                {
                  "metadata": "{}",
                  "name": "Categoria_da_Aeronave",
                  "type": "\"string\""
                },
                {
                  "metadata": "{}",
                  "name": "Classificacao_da_Ocorrência",
                  "type": "\"string\""
                },
                {
                  "metadata": "{}",
                  "name": "Danos_a_Aeronave",
                  "type": "\"string\""
                },
                {
                  "metadata": "{}",
                  "name": "Data_da_Ocorrencia",
                  "type": "\"string\""
                },
                {
                  "metadata": "{}",
                  "name": "Fase_da_Operacao",
                  "type": "\"string\""
                },
                {
                  "metadata": "{}",
                  "name": "Hora_da_Ocorrência",
                  "type": "\"string\""
                },
                {
                  "metadata": "{}",
                  "name": "ICAO",
                  "type": "\"string\""
                },
                {
                  "metadata": "{}",
                  "name": "Ilesos_Passageiros",
                  "type": "\"string\""
                },
                {
                  "metadata": "{}",
                  "name": "Ilesos_Tripulantes",
                  "type": "\"string\""
                },
                {
                  "metadata": "{}",
                  "name": "Latitude",
                  "type": "\"string\""
                },
                {
                  "metadata": "{}",
                  "name": "Lesoes_Desconhecidas_Passageiros",
                  "type": "\"string\""
                },
                {
                  "metadata": "{}",
                  "name": "Lesoes_Desconhecidas_Terceiros",
                  "type": "\"string\""
                },
                {
                  "metadata": "{}",
                  "name": "Lesoes_Desconhecidas_Tripulantes",
                  "type": "\"string\""
                },
                {
                  "metadata": "{}",
                  "name": "Lesoes_Fatais_Passageiros",
                  "type": "\"string\""
                },
                {
                  "metadata": "{}",
                  "name": "Lesoes_Fatais_Terceiros",
                  "type": "\"string\""
                },
                {
                  "metadata": "{}",
                  "name": "Lesoes_Fatais_Tripulantes",
                  "type": "\"string\""
                },
                {
                  "metadata": "{}",
                  "name": "Lesoes_Graves_Passageiros",
                  "type": "\"string\""
                },
                {
                  "metadata": "{}",
                  "name": "Lesoes_Graves_Terceiros",
                  "type": "\"string\""
                },
                {
                  "metadata": "{}",
                  "name": "Lesoes_Graves_Tripulantes",
                  "type": "\"string\""
                },
                {
                  "metadata": "{}",
                  "name": "Lesoes_Leves_Passageiros",
                  "type": "\"string\""
                },
                {
                  "metadata": "{}",
                  "name": "Lesoes_Leves_Terceiros",
                  "type": "\"string\""
                },
                {
                  "metadata": "{}",
                  "name": "Lesoes_Leves_Tripulantes",
                  "type": "\"string\""
                },
                {
                  "metadata": "{}",
                  "name": "Longitude",
                  "type": "\"string\""
                },
                {
                  "metadata": "{}",
                  "name": "Matricula",
                  "type": "\"string\""
                },
                {
                  "metadata": "{}",
                  "name": "Modelo",
                  "type": "\"string\""
                },
                {
                  "metadata": "{}",
                  "name": "Municipio",
                  "type": "\"string\""
                },
                {
                  "metadata": "{}",
                  "name": "Nome_do_Fabricante",
                  "type": "\"string\""
                },
                {
                  "metadata": "{}",
                  "name": "Numero_da_Ficha",
                  "type": "\"string\""
                },
                {
                  "metadata": "{}",
                  "name": "Numero_da_Ocorrencia",
                  "type": "\"string\""
                },
                {
                  "metadata": "{}",
                  "name": "Numero_de_Assentos",
                  "type": "\"string\""
                },
                {
                  "metadata": "{}",
                  "name": "Operacao",
                  "type": "\"string\""
                },
                {
                  "metadata": "{}",
                  "name": "Operador",
                  "type": "\"string\""
                },
                {
                  "metadata": "{}",
                  "name": "Operador_Padronizado",
                  "type": "\"string\""
                },
                {
                  "metadata": "{}",
                  "name": "PMD",
                  "type": "\"string\""
                },
                {
                  "metadata": "{}",
                  "name": "PSSO",
                  "type": "\"string\""
                },
                {
                  "metadata": "{}",
                  "name": "Regiao",
                  "type": "\"string\""
                },
                {
                  "metadata": "{}",
                  "name": "Tipo_ICAO",
                  "type": "\"string\""
                },
                {
                  "metadata": "{}",
                  "name": "Tipo_de_Aerodromo",
                  "type": "\"string\""
                },
                {
                  "metadata": "{}",
                  "name": "Tipo_de_Ocorrencia",
                  "type": "\"string\""
                },
                {
                  "metadata": "{}",
                  "name": "UF",
                  "type": "\"string\""
                }
              ],
              "type": "table"
            }
          }
        }
      ],
      "source": [
        "# substituindo colunas de texto null para 'sem Registro'\n",
        "\n",
        "colunas = ['Aerodromo_de_Destino', 'Aerodromo_de_Origem', 'CLS', 'Categoria_da_Aeronave', 'Classificacao_da_Ocorrência', 'Danos_a_Aeronave', 'Data_da_Ocorrencia',  'Fase_da_Operacao',  'Hora_da_Ocorrência', 'ICAO', 'Ilesos_Tripulantes', 'Ilesos_Passageiros', 'Latitude', 'Matricula', 'Modelo', 'Municipio', 'Nome_do_Fabricante', 'Numero_da_Ficha', 'Numero_da_Ocorrencia', 'Numero_de_Assentos', 'Operacao', 'Operador', 'Operador_Padronizado', 'PMD', 'PSSO', 'Regiao', 'Tipo_ICAO', 'Tipo_de_Aerodromo', 'Tipo_de_Ocorrencia', 'UF']\n",
        "\n",
        "# percorrer todas as colunas e fazer a mesma coisa pra todas selecionadas na variavel\n",
        "for ajuste in colunas:\n",
        "    df = df.fillna('Sem Registro', subset=[ajuste])\n",
        "\n",
        "display(df.limit(5))"
      ]
    },
    {
      "cell_type": "code",
      "execution_count": null,
      "metadata": {
        "application/vnd.databricks.v1+cell": {
          "cellMetadata": {
            "byteLimit": 2048000,
            "rowLimit": 10000
          },
          "inputWidgets": {},
          "nuid": "4fb1e8f3-1edd-4628-a440-d8745d490984",
          "showTitle": false,
          "tableResultSettingsMap": {},
          "title": ""
        },
        "id": "ESbLYhcyGxmA",
        "outputId": "e4bb4e41-34ea-4332-87ce-555849d056e2"
      },
      "outputs": [
        {
          "output_type": "display_data",
          "data": {
            "text/html": [
              "<style scoped>\n",
              "  .table-result-container {\n",
              "    max-height: 300px;\n",
              "    overflow: auto;\n",
              "  }\n",
              "  table, th, td {\n",
              "    border: 1px solid black;\n",
              "    border-collapse: collapse;\n",
              "  }\n",
              "  th, td {\n",
              "    padding: 5px;\n",
              "  }\n",
              "  th {\n",
              "    text-align: left;\n",
              "  }\n",
              "</style><div class='table-result-container'><table class='table-result'><thead style='background-color: white'><tr><th>Aerodromo_de_Destino</th><th>Aerodromo_de_Origem</th><th>CLS</th><th>Categoria_da_Aeronave</th><th>Classificacao_da_Ocorrência</th><th>Danos_a_Aeronave</th><th>Data_da_Ocorrencia</th><th>Fase_da_Operacao</th><th>Hora_da_Ocorrência</th><th>ICAO</th><th>Ilesos_Passageiros</th><th>Ilesos_Tripulantes</th><th>Latitude</th><th>Lesoes_Desconhecidas_Passageiros</th><th>Lesoes_Desconhecidas_Terceiros</th><th>Lesoes_Desconhecidas_Tripulantes</th><th>Lesoes_Fatais_Passageiros</th><th>Lesoes_Fatais_Terceiros</th><th>Lesoes_Fatais_Tripulantes</th><th>Lesoes_Graves_Passageiros</th><th>Lesoes_Graves_Terceiros</th><th>Lesoes_Graves_Tripulantes</th><th>Lesoes_Leves_Passageiros</th><th>Lesoes_Leves_Terceiros</th><th>Lesoes_Leves_Tripulantes</th><th>Longitude</th><th>Matricula</th><th>Modelo</th><th>Municipio</th><th>Nome_do_Fabricante</th><th>Numero_da_Ficha</th><th>Numero_da_Ocorrencia</th><th>Numero_de_Assentos</th><th>Operacao</th><th>Operador</th><th>Operador_Padronizado</th><th>PMD</th><th>PSSO</th><th>Regiao</th><th>Tipo_ICAO</th><th>Tipo_de_Aerodromo</th><th>Tipo_de_Ocorrencia</th><th>UF</th></tr></thead><tbody><tr><td>SBKP</td><td>SBSL</td><td>L2J</td><td>TPR</td><td>Incidente</td><td>Nenhum</td><td>2022-08-11</td><td>Cruzeiro</td><td>05:31:00</td><td>SBPJ</td><td>Sem Registro</td><td>2</td><td>Sem Registro</td><td>0</td><td>null</td><td>null</td><td>null</td><td>null</td><td>null</td><td>null</td><td>null</td><td>null</td><td>null</td><td>null</td><td>null</td><td>null</td><td>PRAYJ</td><td>ERJ 190-200 LR</td><td>PALMAS</td><td>EMBRAER</td><td>2022722007</td><td>33947</td><td>125</td><td>Voo Regular</td><td>AZUL LINHAS AÉREAS BRASILEIRAS S.A.</td><td>AZUL LINHAS AÉREAS BRASILEIRAS S.A.</td><td>50790</td><td>verdadeiro</td><td>Norte</td><td>E195</td><td>Público</td><td>SCF-NP</td><td>TO</td></tr><tr><td>SBCX</td><td>SBKP</td><td>L2J</td><td>TPR</td><td>Incidente Grave</td><td>Leve</td><td>2021-08-06</td><td>Pouso</td><td>16:59</td><td>SBCX</td><td>135</td><td>5</td><td>-29,1956</td><td>0</td><td>null</td><td>null</td><td>null</td><td>null</td><td>null</td><td>null</td><td>null</td><td>null</td><td>null</td><td>null</td><td>null</td><td>-51,1897</td><td>PRPJN</td><td>ERJ 190-400</td><td>CAXIAS DO SUL</td><td>EMBRAER</td><td>202140534</td><td>29123</td><td>143</td><td>Voo Regular</td><td>AZUL LINHAS AEREAS BRASILEIRAS S.A</td><td>AZUL</td><td>61500</td><td>verdadeiro</td><td>Sul</td><td>E295</td><td>Público</td><td>ARC</td><td>RS</td></tr><tr><td>Sem Registro</td><td>Sem Registro</td><td>L1P</td><td>S11</td><td>Incidente Grave</td><td>Leve</td><td>2022-05-21</td><td>Manobra</td><td>12:25</td><td>Fora de Aeródromo</td><td>Sem Registro</td><td>1</td><td>-22,0411</td><td>0</td><td>null</td><td>null</td><td>null</td><td>null</td><td>null</td><td>null</td><td>null</td><td>null</td><td>null</td><td>null</td><td>null</td><td>-54,4103</td><td>PTGGQ</td><td>EMB-201</td><td>DOURADOS</td><td>NEIVA</td><td>2022293670</td><td>32189</td><td>1</td><td>Operação Agrícola</td><td>FIGUEIREDO AVIAÇÃO AGRÍCOLA EIRELI</td><td>FIGUEIREDO AVIAÇÃO AGRÍCOLA EIRELI</td><td>1800</td><td>verdadeiro</td><td>Centro-Oeste</td><td>IPAN</td><td>-</td><td>LALT</td><td>MS</td></tr><tr><td>SBCY</td><td>SDAM</td><td>L1T</td><td>TPP</td><td>Incidente</td><td>Leve</td><td>2022-02-12</td><td>Decolagem</td><td>15:30</td><td>SDAM</td><td>2</td><td>1</td><td>-22,8592</td><td>0</td><td>null</td><td>null</td><td>null</td><td>null</td><td>null</td><td>null</td><td>null</td><td>null</td><td>null</td><td>null</td><td>null</td><td>-47,1081</td><td>PRVZE</td><td>PC-12/47E</td><td>CAMPINAS</td><td>PILATUS</td><td>2022354545</td><td>32190</td><td>10</td><td>Voo Privado</td><td>FENIX PARTICIPACOES LTDA</td><td>FENIX PARTICIPACOES LTDA</td><td>4740</td><td>verdadeiro</td><td>Sudeste</td><td>PC12</td><td>Público</td><td>BIRD</td><td>SP</td></tr><tr><td>SIYL</td><td>SIYL</td><td>H2T</td><td>TPP</td><td>Incidente</td><td>Leve</td><td>2022-06-26</td><td>Estacionamento</td><td>13:45</td><td>SDAM</td><td>3</td><td>2</td><td>-22,8592</td><td>0</td><td>null</td><td>null</td><td>null</td><td>null</td><td>null</td><td>null</td><td>null</td><td>null</td><td>null</td><td>null</td><td>null</td><td>-47,1081</td><td>PRPIN</td><td>A109E</td><td>CAMPINAS</td><td>AGUSTA</td><td>2022125796</td><td>32726</td><td>8</td><td>Voo Privado</td><td>ANAPE EMPREENDIMENTOS IMOBILIÁRIOS-EIRELI</td><td>ANAPE EMPREENDIMENTOS IMOBILIÁRIOS-EIRELI</td><td>3000</td><td>verdadeiro</td><td>Sudeste</td><td>A109</td><td>Público</td><td>GCOL</td><td>SP</td></tr></tbody></table></div>"
            ]
          },
          "metadata": {
            "application/vnd.databricks.v1+output": {
              "addedWidgets": {},
              "aggData": [],
              "aggError": "",
              "aggOverflow": false,
              "aggSchema": [],
              "aggSeriesLimitReached": false,
              "aggType": "",
              "arguments": {},
              "columnCustomDisplayInfos": {},
              "data": [
                [
                  "SBKP",
                  "SBSL",
                  "L2J",
                  "TPR",
                  "Incidente",
                  "Nenhum",
                  "2022-08-11",
                  "Cruzeiro",
                  "05:31:00",
                  "SBPJ",
                  "Sem Registro",
                  "2",
                  "Sem Registro",
                  0,
                  null,
                  null,
                  null,
                  null,
                  null,
                  null,
                  null,
                  null,
                  null,
                  null,
                  null,
                  null,
                  "PRAYJ",
                  "ERJ 190-200 LR",
                  "PALMAS",
                  "EMBRAER",
                  "2022722007",
                  "33947",
                  "125",
                  "Voo Regular",
                  "AZUL LINHAS AÉREAS BRASILEIRAS S.A.",
                  "AZUL LINHAS AÉREAS BRASILEIRAS S.A.",
                  "50790",
                  "verdadeiro",
                  "Norte",
                  "E195",
                  "Público",
                  "SCF-NP",
                  "TO"
                ],
                [
                  "SBCX",
                  "SBKP",
                  "L2J",
                  "TPR",
                  "Incidente Grave",
                  "Leve",
                  "2021-08-06",
                  "Pouso",
                  "16:59",
                  "SBCX",
                  "135",
                  "5",
                  "-29,1956",
                  0,
                  null,
                  null,
                  null,
                  null,
                  null,
                  null,
                  null,
                  null,
                  null,
                  null,
                  null,
                  "-51,1897",
                  "PRPJN",
                  "ERJ 190-400",
                  "CAXIAS DO SUL",
                  "EMBRAER",
                  "202140534",
                  "29123",
                  "143",
                  "Voo Regular",
                  "AZUL LINHAS AEREAS BRASILEIRAS S.A",
                  "AZUL",
                  "61500",
                  "verdadeiro",
                  "Sul",
                  "E295",
                  "Público",
                  "ARC",
                  "RS"
                ],
                [
                  "Sem Registro",
                  "Sem Registro",
                  "L1P",
                  "S11",
                  "Incidente Grave",
                  "Leve",
                  "2022-05-21",
                  "Manobra",
                  "12:25",
                  "Fora de Aeródromo",
                  "Sem Registro",
                  "1",
                  "-22,0411",
                  0,
                  null,
                  null,
                  null,
                  null,
                  null,
                  null,
                  null,
                  null,
                  null,
                  null,
                  null,
                  "-54,4103",
                  "PTGGQ",
                  "EMB-201",
                  "DOURADOS",
                  "NEIVA",
                  "2022293670",
                  "32189",
                  "1",
                  "Operação Agrícola",
                  "FIGUEIREDO AVIAÇÃO AGRÍCOLA EIRELI",
                  "FIGUEIREDO AVIAÇÃO AGRÍCOLA EIRELI",
                  "1800",
                  "verdadeiro",
                  "Centro-Oeste",
                  "IPAN",
                  "-",
                  "LALT",
                  "MS"
                ],
                [
                  "SBCY",
                  "SDAM",
                  "L1T",
                  "TPP",
                  "Incidente",
                  "Leve",
                  "2022-02-12",
                  "Decolagem",
                  "15:30",
                  "SDAM",
                  "2",
                  "1",
                  "-22,8592",
                  0,
                  null,
                  null,
                  null,
                  null,
                  null,
                  null,
                  null,
                  null,
                  null,
                  null,
                  null,
                  "-47,1081",
                  "PRVZE",
                  "PC-12/47E",
                  "CAMPINAS",
                  "PILATUS",
                  "2022354545",
                  "32190",
                  "10",
                  "Voo Privado",
                  "FENIX PARTICIPACOES LTDA",
                  "FENIX PARTICIPACOES LTDA",
                  "4740",
                  "verdadeiro",
                  "Sudeste",
                  "PC12",
                  "Público",
                  "BIRD",
                  "SP"
                ],
                [
                  "SIYL",
                  "SIYL",
                  "H2T",
                  "TPP",
                  "Incidente",
                  "Leve",
                  "2022-06-26",
                  "Estacionamento",
                  "13:45",
                  "SDAM",
                  "3",
                  "2",
                  "-22,8592",
                  0,
                  null,
                  null,
                  null,
                  null,
                  null,
                  null,
                  null,
                  null,
                  null,
                  null,
                  null,
                  "-47,1081",
                  "PRPIN",
                  "A109E",
                  "CAMPINAS",
                  "AGUSTA",
                  "2022125796",
                  "32726",
                  "8",
                  "Voo Privado",
                  "ANAPE EMPREENDIMENTOS IMOBILIÁRIOS-EIRELI",
                  "ANAPE EMPREENDIMENTOS IMOBILIÁRIOS-EIRELI",
                  "3000",
                  "verdadeiro",
                  "Sudeste",
                  "A109",
                  "Público",
                  "GCOL",
                  "SP"
                ]
              ],
              "datasetInfos": [],
              "dbfsResultPath": null,
              "isJsonSchema": true,
              "metadata": {},
              "overflow": false,
              "plotOptions": {
                "customPlotOptions": {},
                "displayType": "table",
                "pivotAggregation": null,
                "pivotColumns": null,
                "xColumns": null,
                "yColumns": null
              },
              "removedWidgets": [],
              "schema": [
                {
                  "metadata": "{}",
                  "name": "Aerodromo_de_Destino",
                  "type": "\"string\""
                },
                {
                  "metadata": "{}",
                  "name": "Aerodromo_de_Origem",
                  "type": "\"string\""
                },
                {
                  "metadata": "{}",
                  "name": "CLS",
                  "type": "\"string\""
                },
                {
                  "metadata": "{}",
                  "name": "Categoria_da_Aeronave",
                  "type": "\"string\""
                },
                {
                  "metadata": "{}",
                  "name": "Classificacao_da_Ocorrência",
                  "type": "\"string\""
                },
                {
                  "metadata": "{}",
                  "name": "Danos_a_Aeronave",
                  "type": "\"string\""
                },
                {
                  "metadata": "{}",
                  "name": "Data_da_Ocorrencia",
                  "type": "\"string\""
                },
                {
                  "metadata": "{}",
                  "name": "Fase_da_Operacao",
                  "type": "\"string\""
                },
                {
                  "metadata": "{}",
                  "name": "Hora_da_Ocorrência",
                  "type": "\"string\""
                },
                {
                  "metadata": "{}",
                  "name": "ICAO",
                  "type": "\"string\""
                },
                {
                  "metadata": "{}",
                  "name": "Ilesos_Passageiros",
                  "type": "\"string\""
                },
                {
                  "metadata": "{}",
                  "name": "Ilesos_Tripulantes",
                  "type": "\"string\""
                },
                {
                  "metadata": "{}",
                  "name": "Latitude",
                  "type": "\"string\""
                },
                {
                  "metadata": "{}",
                  "name": "Lesoes_Desconhecidas_Passageiros",
                  "type": "\"integer\""
                },
                {
                  "metadata": "{}",
                  "name": "Lesoes_Desconhecidas_Terceiros",
                  "type": "\"string\""
                },
                {
                  "metadata": "{}",
                  "name": "Lesoes_Desconhecidas_Tripulantes",
                  "type": "\"string\""
                },
                {
                  "metadata": "{}",
                  "name": "Lesoes_Fatais_Passageiros",
                  "type": "\"string\""
                },
                {
                  "metadata": "{}",
                  "name": "Lesoes_Fatais_Terceiros",
                  "type": "\"string\""
                },
                {
                  "metadata": "{}",
                  "name": "Lesoes_Fatais_Tripulantes",
                  "type": "\"string\""
                },
                {
                  "metadata": "{}",
                  "name": "Lesoes_Graves_Passageiros",
                  "type": "\"string\""
                },
                {
                  "metadata": "{}",
                  "name": "Lesoes_Graves_Terceiros",
                  "type": "\"string\""
                },
                {
                  "metadata": "{}",
                  "name": "Lesoes_Graves_Tripulantes",
                  "type": "\"string\""
                },
                {
                  "metadata": "{}",
                  "name": "Lesoes_Leves_Passageiros",
                  "type": "\"string\""
                },
                {
                  "metadata": "{}",
                  "name": "Lesoes_Leves_Terceiros",
                  "type": "\"string\""
                },
                {
                  "metadata": "{}",
                  "name": "Lesoes_Leves_Tripulantes",
                  "type": "\"string\""
                },
                {
                  "metadata": "{}",
                  "name": "Longitude",
                  "type": "\"string\""
                },
                {
                  "metadata": "{}",
                  "name": "Matricula",
                  "type": "\"string\""
                },
                {
                  "metadata": "{}",
                  "name": "Modelo",
                  "type": "\"string\""
                },
                {
                  "metadata": "{}",
                  "name": "Municipio",
                  "type": "\"string\""
                },
                {
                  "metadata": "{}",
                  "name": "Nome_do_Fabricante",
                  "type": "\"string\""
                },
                {
                  "metadata": "{}",
                  "name": "Numero_da_Ficha",
                  "type": "\"string\""
                },
                {
                  "metadata": "{}",
                  "name": "Numero_da_Ocorrencia",
                  "type": "\"string\""
                },
                {
                  "metadata": "{}",
                  "name": "Numero_de_Assentos",
                  "type": "\"string\""
                },
                {
                  "metadata": "{}",
                  "name": "Operacao",
                  "type": "\"string\""
                },
                {
                  "metadata": "{}",
                  "name": "Operador",
                  "type": "\"string\""
                },
                {
                  "metadata": "{}",
                  "name": "Operador_Padronizado",
                  "type": "\"string\""
                },
                {
                  "metadata": "{}",
                  "name": "PMD",
                  "type": "\"string\""
                },
                {
                  "metadata": "{}",
                  "name": "PSSO",
                  "type": "\"string\""
                },
                {
                  "metadata": "{}",
                  "name": "Regiao",
                  "type": "\"string\""
                },
                {
                  "metadata": "{}",
                  "name": "Tipo_ICAO",
                  "type": "\"string\""
                },
                {
                  "metadata": "{}",
                  "name": "Tipo_de_Aerodromo",
                  "type": "\"string\""
                },
                {
                  "metadata": "{}",
                  "name": "Tipo_de_Ocorrencia",
                  "type": "\"string\""
                },
                {
                  "metadata": "{}",
                  "name": "UF",
                  "type": "\"string\""
                }
              ],
              "type": "table"
            }
          }
        }
      ],
      "source": [
        "# colunas de origem estão com dados em str , converter para 'int' e já trocar null por 0 como aprendemos em aulas anteriores\n",
        "\n",
        "\n",
        "coluna_converter = 'Lesoes_Desconhecidas_Passageiros'\n",
        "df = df\\\n",
        "    .withColumn(coluna_converter, df[coluna_converter].cast(\"int\"))\\\n",
        "    .fillna(0, subset=[coluna_converter])\n",
        "display(df.limit(5))\n",
        "\n"
      ]
    },
    {
      "cell_type": "code",
      "execution_count": null,
      "metadata": {
        "application/vnd.databricks.v1+cell": {
          "cellMetadata": {
            "byteLimit": 2048000,
            "rowLimit": 10000
          },
          "inputWidgets": {},
          "nuid": "faecee79-ad85-457d-8157-6756668f67be",
          "showTitle": false,
          "tableResultSettingsMap": {},
          "title": ""
        },
        "id": "hEfEX83VGxmA",
        "outputId": "280ef68d-40d9-46ee-a369-a682cd98cfa0"
      },
      "outputs": [
        {
          "output_type": "display_data",
          "data": {
            "text/html": [
              "<style scoped>\n",
              "  .table-result-container {\n",
              "    max-height: 300px;\n",
              "    overflow: auto;\n",
              "  }\n",
              "  table, th, td {\n",
              "    border: 1px solid black;\n",
              "    border-collapse: collapse;\n",
              "  }\n",
              "  th, td {\n",
              "    padding: 5px;\n",
              "  }\n",
              "  th {\n",
              "    text-align: left;\n",
              "  }\n",
              "</style><div class='table-result-container'><table class='table-result'><thead style='background-color: white'><tr><th>Aerodromo_de_Destino</th><th>Aerodromo_de_Origem</th><th>CLS</th><th>Categoria_da_Aeronave</th><th>Classificacao_da_Ocorrência</th><th>Danos_a_Aeronave</th><th>Data_da_Ocorrencia</th><th>Fase_da_Operacao</th><th>Hora_da_Ocorrência</th><th>ICAO</th><th>Ilesos_Passageiros</th><th>Ilesos_Tripulantes</th><th>Latitude</th><th>Lesoes_Desconhecidas_Passageiros</th><th>Lesoes_Desconhecidas_Terceiros</th><th>Lesoes_Desconhecidas_Tripulantes</th><th>Lesoes_Fatais_Passageiros</th><th>Lesoes_Fatais_Terceiros</th><th>Lesoes_Fatais_Tripulantes</th><th>Lesoes_Graves_Passageiros</th><th>Lesoes_Graves_Terceiros</th><th>Lesoes_Graves_Tripulantes</th><th>Lesoes_Leves_Passageiros</th><th>Lesoes_Leves_Terceiros</th><th>Lesoes_Leves_Tripulantes</th><th>Longitude</th><th>Matricula</th><th>Modelo</th><th>Municipio</th><th>Nome_do_Fabricante</th><th>Numero_da_Ficha</th><th>Numero_da_Ocorrencia</th><th>Numero_de_Assentos</th><th>Operacao</th><th>Operador</th><th>Operador_Padronizado</th><th>PMD</th><th>PSSO</th><th>Regiao</th><th>Tipo_ICAO</th><th>Tipo_de_Aerodromo</th><th>Tipo_de_Ocorrencia</th><th>UF</th></tr></thead><tbody><tr><td>SBKP</td><td>SBSL</td><td>L2J</td><td>TPR</td><td>Incidente</td><td>Nenhum</td><td>2022-08-11</td><td>Cruzeiro</td><td>05:31:00</td><td>SBPJ</td><td>Sem Registro</td><td>2</td><td>Sem Registro</td><td>0</td><td>0</td><td>0</td><td>0</td><td>0</td><td>0</td><td>0</td><td>0</td><td>0</td><td>0</td><td>0</td><td>0</td><td>null</td><td>PRAYJ</td><td>ERJ 190-200 LR</td><td>PALMAS</td><td>EMBRAER</td><td>2022722007</td><td>33947</td><td>125</td><td>Voo Regular</td><td>AZUL LINHAS AÉREAS BRASILEIRAS S.A.</td><td>AZUL LINHAS AÉREAS BRASILEIRAS S.A.</td><td>50790</td><td>verdadeiro</td><td>Norte</td><td>E195</td><td>Público</td><td>SCF-NP</td><td>TO</td></tr><tr><td>SBCX</td><td>SBKP</td><td>L2J</td><td>TPR</td><td>Incidente Grave</td><td>Leve</td><td>2021-08-06</td><td>Pouso</td><td>16:59</td><td>SBCX</td><td>135</td><td>5</td><td>-29,1956</td><td>0</td><td>0</td><td>0</td><td>0</td><td>0</td><td>0</td><td>0</td><td>0</td><td>0</td><td>0</td><td>0</td><td>0</td><td>-51,1897</td><td>PRPJN</td><td>ERJ 190-400</td><td>CAXIAS DO SUL</td><td>EMBRAER</td><td>202140534</td><td>29123</td><td>143</td><td>Voo Regular</td><td>AZUL LINHAS AEREAS BRASILEIRAS S.A</td><td>AZUL</td><td>61500</td><td>verdadeiro</td><td>Sul</td><td>E295</td><td>Público</td><td>ARC</td><td>RS</td></tr><tr><td>Sem Registro</td><td>Sem Registro</td><td>L1P</td><td>S11</td><td>Incidente Grave</td><td>Leve</td><td>2022-05-21</td><td>Manobra</td><td>12:25</td><td>Fora de Aeródromo</td><td>Sem Registro</td><td>1</td><td>-22,0411</td><td>0</td><td>0</td><td>0</td><td>0</td><td>0</td><td>0</td><td>0</td><td>0</td><td>0</td><td>0</td><td>0</td><td>0</td><td>-54,4103</td><td>PTGGQ</td><td>EMB-201</td><td>DOURADOS</td><td>NEIVA</td><td>2022293670</td><td>32189</td><td>1</td><td>Operação Agrícola</td><td>FIGUEIREDO AVIAÇÃO AGRÍCOLA EIRELI</td><td>FIGUEIREDO AVIAÇÃO AGRÍCOLA EIRELI</td><td>1800</td><td>verdadeiro</td><td>Centro-Oeste</td><td>IPAN</td><td>-</td><td>LALT</td><td>MS</td></tr><tr><td>SBCY</td><td>SDAM</td><td>L1T</td><td>TPP</td><td>Incidente</td><td>Leve</td><td>2022-02-12</td><td>Decolagem</td><td>15:30</td><td>SDAM</td><td>2</td><td>1</td><td>-22,8592</td><td>0</td><td>0</td><td>0</td><td>0</td><td>0</td><td>0</td><td>0</td><td>0</td><td>0</td><td>0</td><td>0</td><td>0</td><td>-47,1081</td><td>PRVZE</td><td>PC-12/47E</td><td>CAMPINAS</td><td>PILATUS</td><td>2022354545</td><td>32190</td><td>10</td><td>Voo Privado</td><td>FENIX PARTICIPACOES LTDA</td><td>FENIX PARTICIPACOES LTDA</td><td>4740</td><td>verdadeiro</td><td>Sudeste</td><td>PC12</td><td>Público</td><td>BIRD</td><td>SP</td></tr><tr><td>SIYL</td><td>SIYL</td><td>H2T</td><td>TPP</td><td>Incidente</td><td>Leve</td><td>2022-06-26</td><td>Estacionamento</td><td>13:45</td><td>SDAM</td><td>3</td><td>2</td><td>-22,8592</td><td>0</td><td>0</td><td>0</td><td>0</td><td>0</td><td>0</td><td>0</td><td>0</td><td>0</td><td>0</td><td>0</td><td>0</td><td>-47,1081</td><td>PRPIN</td><td>A109E</td><td>CAMPINAS</td><td>AGUSTA</td><td>2022125796</td><td>32726</td><td>8</td><td>Voo Privado</td><td>ANAPE EMPREENDIMENTOS IMOBILIÁRIOS-EIRELI</td><td>ANAPE EMPREENDIMENTOS IMOBILIÁRIOS-EIRELI</td><td>3000</td><td>verdadeiro</td><td>Sudeste</td><td>A109</td><td>Público</td><td>GCOL</td><td>SP</td></tr></tbody></table></div>"
            ]
          },
          "metadata": {
            "application/vnd.databricks.v1+output": {
              "addedWidgets": {},
              "aggData": [],
              "aggError": "",
              "aggOverflow": false,
              "aggSchema": [],
              "aggSeriesLimitReached": false,
              "aggType": "",
              "arguments": {},
              "columnCustomDisplayInfos": {},
              "data": [
                [
                  "SBKP",
                  "SBSL",
                  "L2J",
                  "TPR",
                  "Incidente",
                  "Nenhum",
                  "2022-08-11",
                  "Cruzeiro",
                  "05:31:00",
                  "SBPJ",
                  "Sem Registro",
                  "2",
                  "Sem Registro",
                  0,
                  0,
                  0,
                  0,
                  0,
                  0,
                  0,
                  0,
                  0,
                  0,
                  0,
                  0,
                  null,
                  "PRAYJ",
                  "ERJ 190-200 LR",
                  "PALMAS",
                  "EMBRAER",
                  "2022722007",
                  "33947",
                  "125",
                  "Voo Regular",
                  "AZUL LINHAS AÉREAS BRASILEIRAS S.A.",
                  "AZUL LINHAS AÉREAS BRASILEIRAS S.A.",
                  "50790",
                  "verdadeiro",
                  "Norte",
                  "E195",
                  "Público",
                  "SCF-NP",
                  "TO"
                ],
                [
                  "SBCX",
                  "SBKP",
                  "L2J",
                  "TPR",
                  "Incidente Grave",
                  "Leve",
                  "2021-08-06",
                  "Pouso",
                  "16:59",
                  "SBCX",
                  "135",
                  "5",
                  "-29,1956",
                  0,
                  0,
                  0,
                  0,
                  0,
                  0,
                  0,
                  0,
                  0,
                  0,
                  0,
                  0,
                  "-51,1897",
                  "PRPJN",
                  "ERJ 190-400",
                  "CAXIAS DO SUL",
                  "EMBRAER",
                  "202140534",
                  "29123",
                  "143",
                  "Voo Regular",
                  "AZUL LINHAS AEREAS BRASILEIRAS S.A",
                  "AZUL",
                  "61500",
                  "verdadeiro",
                  "Sul",
                  "E295",
                  "Público",
                  "ARC",
                  "RS"
                ],
                [
                  "Sem Registro",
                  "Sem Registro",
                  "L1P",
                  "S11",
                  "Incidente Grave",
                  "Leve",
                  "2022-05-21",
                  "Manobra",
                  "12:25",
                  "Fora de Aeródromo",
                  "Sem Registro",
                  "1",
                  "-22,0411",
                  0,
                  0,
                  0,
                  0,
                  0,
                  0,
                  0,
                  0,
                  0,
                  0,
                  0,
                  0,
                  "-54,4103",
                  "PTGGQ",
                  "EMB-201",
                  "DOURADOS",
                  "NEIVA",
                  "2022293670",
                  "32189",
                  "1",
                  "Operação Agrícola",
                  "FIGUEIREDO AVIAÇÃO AGRÍCOLA EIRELI",
                  "FIGUEIREDO AVIAÇÃO AGRÍCOLA EIRELI",
                  "1800",
                  "verdadeiro",
                  "Centro-Oeste",
                  "IPAN",
                  "-",
                  "LALT",
                  "MS"
                ],
                [
                  "SBCY",
                  "SDAM",
                  "L1T",
                  "TPP",
                  "Incidente",
                  "Leve",
                  "2022-02-12",
                  "Decolagem",
                  "15:30",
                  "SDAM",
                  "2",
                  "1",
                  "-22,8592",
                  0,
                  0,
                  0,
                  0,
                  0,
                  0,
                  0,
                  0,
                  0,
                  0,
                  0,
                  0,
                  "-47,1081",
                  "PRVZE",
                  "PC-12/47E",
                  "CAMPINAS",
                  "PILATUS",
                  "2022354545",
                  "32190",
                  "10",
                  "Voo Privado",
                  "FENIX PARTICIPACOES LTDA",
                  "FENIX PARTICIPACOES LTDA",
                  "4740",
                  "verdadeiro",
                  "Sudeste",
                  "PC12",
                  "Público",
                  "BIRD",
                  "SP"
                ],
                [
                  "SIYL",
                  "SIYL",
                  "H2T",
                  "TPP",
                  "Incidente",
                  "Leve",
                  "2022-06-26",
                  "Estacionamento",
                  "13:45",
                  "SDAM",
                  "3",
                  "2",
                  "-22,8592",
                  0,
                  0,
                  0,
                  0,
                  0,
                  0,
                  0,
                  0,
                  0,
                  0,
                  0,
                  0,
                  "-47,1081",
                  "PRPIN",
                  "A109E",
                  "CAMPINAS",
                  "AGUSTA",
                  "2022125796",
                  "32726",
                  "8",
                  "Voo Privado",
                  "ANAPE EMPREENDIMENTOS IMOBILIÁRIOS-EIRELI",
                  "ANAPE EMPREENDIMENTOS IMOBILIÁRIOS-EIRELI",
                  "3000",
                  "verdadeiro",
                  "Sudeste",
                  "A109",
                  "Público",
                  "GCOL",
                  "SP"
                ]
              ],
              "datasetInfos": [],
              "dbfsResultPath": null,
              "isJsonSchema": true,
              "metadata": {},
              "overflow": false,
              "plotOptions": {
                "customPlotOptions": {},
                "displayType": "table",
                "pivotAggregation": null,
                "pivotColumns": null,
                "xColumns": null,
                "yColumns": null
              },
              "removedWidgets": [],
              "schema": [
                {
                  "metadata": "{}",
                  "name": "Aerodromo_de_Destino",
                  "type": "\"string\""
                },
                {
                  "metadata": "{}",
                  "name": "Aerodromo_de_Origem",
                  "type": "\"string\""
                },
                {
                  "metadata": "{}",
                  "name": "CLS",
                  "type": "\"string\""
                },
                {
                  "metadata": "{}",
                  "name": "Categoria_da_Aeronave",
                  "type": "\"string\""
                },
                {
                  "metadata": "{}",
                  "name": "Classificacao_da_Ocorrência",
                  "type": "\"string\""
                },
                {
                  "metadata": "{}",
                  "name": "Danos_a_Aeronave",
                  "type": "\"string\""
                },
                {
                  "metadata": "{}",
                  "name": "Data_da_Ocorrencia",
                  "type": "\"string\""
                },
                {
                  "metadata": "{}",
                  "name": "Fase_da_Operacao",
                  "type": "\"string\""
                },
                {
                  "metadata": "{}",
                  "name": "Hora_da_Ocorrência",
                  "type": "\"string\""
                },
                {
                  "metadata": "{}",
                  "name": "ICAO",
                  "type": "\"string\""
                },
                {
                  "metadata": "{}",
                  "name": "Ilesos_Passageiros",
                  "type": "\"string\""
                },
                {
                  "metadata": "{}",
                  "name": "Ilesos_Tripulantes",
                  "type": "\"string\""
                },
                {
                  "metadata": "{}",
                  "name": "Latitude",
                  "type": "\"string\""
                },
                {
                  "metadata": "{}",
                  "name": "Lesoes_Desconhecidas_Passageiros",
                  "type": "\"integer\""
                },
                {
                  "metadata": "{}",
                  "name": "Lesoes_Desconhecidas_Terceiros",
                  "type": "\"integer\""
                },
                {
                  "metadata": "{}",
                  "name": "Lesoes_Desconhecidas_Tripulantes",
                  "type": "\"integer\""
                },
                {
                  "metadata": "{}",
                  "name": "Lesoes_Fatais_Passageiros",
                  "type": "\"integer\""
                },
                {
                  "metadata": "{}",
                  "name": "Lesoes_Fatais_Terceiros",
                  "type": "\"integer\""
                },
                {
                  "metadata": "{}",
                  "name": "Lesoes_Fatais_Tripulantes",
                  "type": "\"integer\""
                },
                {
                  "metadata": "{}",
                  "name": "Lesoes_Graves_Passageiros",
                  "type": "\"integer\""
                },
                {
                  "metadata": "{}",
                  "name": "Lesoes_Graves_Terceiros",
                  "type": "\"integer\""
                },
                {
                  "metadata": "{}",
                  "name": "Lesoes_Graves_Tripulantes",
                  "type": "\"integer\""
                },
                {
                  "metadata": "{}",
                  "name": "Lesoes_Leves_Passageiros",
                  "type": "\"integer\""
                },
                {
                  "metadata": "{}",
                  "name": "Lesoes_Leves_Terceiros",
                  "type": "\"integer\""
                },
                {
                  "metadata": "{}",
                  "name": "Lesoes_Leves_Tripulantes",
                  "type": "\"integer\""
                },
                {
                  "metadata": "{}",
                  "name": "Longitude",
                  "type": "\"string\""
                },
                {
                  "metadata": "{}",
                  "name": "Matricula",
                  "type": "\"string\""
                },
                {
                  "metadata": "{}",
                  "name": "Modelo",
                  "type": "\"string\""
                },
                {
                  "metadata": "{}",
                  "name": "Municipio",
                  "type": "\"string\""
                },
                {
                  "metadata": "{}",
                  "name": "Nome_do_Fabricante",
                  "type": "\"string\""
                },
                {
                  "metadata": "{}",
                  "name": "Numero_da_Ficha",
                  "type": "\"string\""
                },
                {
                  "metadata": "{}",
                  "name": "Numero_da_Ocorrencia",
                  "type": "\"string\""
                },
                {
                  "metadata": "{}",
                  "name": "Numero_de_Assentos",
                  "type": "\"string\""
                },
                {
                  "metadata": "{}",
                  "name": "Operacao",
                  "type": "\"string\""
                },
                {
                  "metadata": "{}",
                  "name": "Operador",
                  "type": "\"string\""
                },
                {
                  "metadata": "{}",
                  "name": "Operador_Padronizado",
                  "type": "\"string\""
                },
                {
                  "metadata": "{}",
                  "name": "PMD",
                  "type": "\"string\""
                },
                {
                  "metadata": "{}",
                  "name": "PSSO",
                  "type": "\"string\""
                },
                {
                  "metadata": "{}",
                  "name": "Regiao",
                  "type": "\"string\""
                },
                {
                  "metadata": "{}",
                  "name": "Tipo_ICAO",
                  "type": "\"string\""
                },
                {
                  "metadata": "{}",
                  "name": "Tipo_de_Aerodromo",
                  "type": "\"string\""
                },
                {
                  "metadata": "{}",
                  "name": "Tipo_de_Ocorrencia",
                  "type": "\"string\""
                },
                {
                  "metadata": "{}",
                  "name": "UF",
                  "type": "\"string\""
                }
              ],
              "type": "table"
            }
          }
        }
      ],
      "source": [
        "ajuste_int = ['Lesoes_Desconhecidas_Passageiros', 'Lesoes_Desconhecidas_Terceiros', 'Lesoes_Desconhecidas_Tripulantes', 'Lesoes_Fatais_Passageiros', 'Lesoes_Fatais_Terceiros', 'Lesoes_Fatais_Tripulantes', 'Lesoes_Graves_Passageiros', 'Lesoes_Graves_Terceiros', 'Lesoes_Graves_Tripulantes', 'Lesoes_Leves_Passageiros', 'Lesoes_Leves_Terceiros', 'Lesoes_Leves_Tripulantes']\n",
        "\n",
        "\n",
        "for Loop in ajuste_int :\n",
        "    df = df\\\n",
        "        .withColumn(Loop, df[Loop].cast(\"int\"))\\\n",
        "        .fillna(0, subset=[Loop])\n",
        "display(df.limit(5))"
      ]
    },
    {
      "cell_type": "code",
      "execution_count": null,
      "metadata": {
        "application/vnd.databricks.v1+cell": {
          "cellMetadata": {
            "byteLimit": 2048000,
            "rowLimit": 10000
          },
          "inputWidgets": {},
          "nuid": "aa60c666-64fe-4bc8-a113-b9e2baeb68d9",
          "showTitle": false,
          "tableResultSettingsMap": {},
          "title": ""
        },
        "id": "nLYP33doGxmB"
      },
      "outputs": [],
      "source": [
        "# Salvar em formato parquet\n",
        "\n",
        "df.write.mode(\"overwrite\").parquet(\"dbfs:/FileStore/tables/Anac/V_OCORRENCIA_AMPLA.json\")"
      ]
    },
    {
      "cell_type": "code",
      "execution_count": null,
      "metadata": {
        "application/vnd.databricks.v1+cell": {
          "cellMetadata": {
            "byteLimit": 2048000,
            "rowLimit": 10000
          },
          "inputWidgets": {},
          "nuid": "3f2986e7-bfbe-4462-b6f1-6969b019fe79",
          "showTitle": false,
          "tableResultSettingsMap": {},
          "title": ""
        },
        "id": "tWSggQDDGxmB",
        "outputId": "8449b160-0b41-451e-e4d1-9f8859f580ab"
      },
      "outputs": [
        {
          "output_type": "display_data",
          "data": {
            "text/html": [
              "<style scoped>\n",
              "  .table-result-container {\n",
              "    max-height: 300px;\n",
              "    overflow: auto;\n",
              "  }\n",
              "  table, th, td {\n",
              "    border: 1px solid black;\n",
              "    border-collapse: collapse;\n",
              "  }\n",
              "  th, td {\n",
              "    padding: 5px;\n",
              "  }\n",
              "  th {\n",
              "    text-align: left;\n",
              "  }\n",
              "</style><div class='table-result-container'><table class='table-result'><thead style='background-color: white'><tr><th>path</th><th>name</th><th>size</th><th>modificationTime</th></tr></thead><tbody><tr><td>dbfs:/FileStore/tables/Anac/V_OCORRENCIA_AMPLA.json/_SUCCESS</td><td>_SUCCESS</td><td>0</td><td>1742433029000</td></tr><tr><td>dbfs:/FileStore/tables/Anac/V_OCORRENCIA_AMPLA.json/_committed_2013558677140074339</td><td>_committed_2013558677140074339</td><td>221</td><td>1742433029000</td></tr><tr><td>dbfs:/FileStore/tables/Anac/V_OCORRENCIA_AMPLA.json/_committed_3752741322476567480</td><td>_committed_3752741322476567480</td><td>232</td><td>1742432358000</td></tr><tr><td>dbfs:/FileStore/tables/Anac/V_OCORRENCIA_AMPLA.json/_committed_8206935698225024524</td><td>_committed_8206935698225024524</td><td>123</td><td>1742410868000</td></tr><tr><td>dbfs:/FileStore/tables/Anac/V_OCORRENCIA_AMPLA.json/_committed_vacuum7794147690215590415</td><td>_committed_vacuum7794147690215590415</td><td>96</td><td>1742432359000</td></tr><tr><td>dbfs:/FileStore/tables/Anac/V_OCORRENCIA_AMPLA.json/_started_2013558677140074339</td><td>_started_2013558677140074339</td><td>0</td><td>1742433027000</td></tr><tr><td>dbfs:/FileStore/tables/Anac/V_OCORRENCIA_AMPLA.json/_started_3752741322476567480</td><td>_started_3752741322476567480</td><td>0</td><td>1742432354000</td></tr><tr><td>dbfs:/FileStore/tables/Anac/V_OCORRENCIA_AMPLA.json/part-00000-tid-2013558677140074339-adbe90e3-e003-4e81-8660-6580fcc48a6f-74-1-c000.snappy.parquet</td><td>part-00000-tid-2013558677140074339-adbe90e3-e003-4e81-8660-6580fcc48a6f-74-1-c000.snappy.parquet</td><td>821424</td><td>1742433029000</td></tr></tbody></table></div>"
            ]
          },
          "metadata": {
            "application/vnd.databricks.v1+output": {
              "addedWidgets": {},
              "aggData": [],
              "aggError": "",
              "aggOverflow": false,
              "aggSchema": [],
              "aggSeriesLimitReached": false,
              "aggType": "",
              "arguments": {},
              "columnCustomDisplayInfos": {},
              "data": [
                [
                  "dbfs:/FileStore/tables/Anac/V_OCORRENCIA_AMPLA.json/_SUCCESS",
                  "_SUCCESS",
                  0,
                  1742433029000
                ],
                [
                  "dbfs:/FileStore/tables/Anac/V_OCORRENCIA_AMPLA.json/_committed_2013558677140074339",
                  "_committed_2013558677140074339",
                  221,
                  1742433029000
                ],
                [
                  "dbfs:/FileStore/tables/Anac/V_OCORRENCIA_AMPLA.json/_committed_3752741322476567480",
                  "_committed_3752741322476567480",
                  232,
                  1742432358000
                ],
                [
                  "dbfs:/FileStore/tables/Anac/V_OCORRENCIA_AMPLA.json/_committed_8206935698225024524",
                  "_committed_8206935698225024524",
                  123,
                  1742410868000
                ],
                [
                  "dbfs:/FileStore/tables/Anac/V_OCORRENCIA_AMPLA.json/_committed_vacuum7794147690215590415",
                  "_committed_vacuum7794147690215590415",
                  96,
                  1742432359000
                ],
                [
                  "dbfs:/FileStore/tables/Anac/V_OCORRENCIA_AMPLA.json/_started_2013558677140074339",
                  "_started_2013558677140074339",
                  0,
                  1742433027000
                ],
                [
                  "dbfs:/FileStore/tables/Anac/V_OCORRENCIA_AMPLA.json/_started_3752741322476567480",
                  "_started_3752741322476567480",
                  0,
                  1742432354000
                ],
                [
                  "dbfs:/FileStore/tables/Anac/V_OCORRENCIA_AMPLA.json/part-00000-tid-2013558677140074339-adbe90e3-e003-4e81-8660-6580fcc48a6f-74-1-c000.snappy.parquet",
                  "part-00000-tid-2013558677140074339-adbe90e3-e003-4e81-8660-6580fcc48a6f-74-1-c000.snappy.parquet",
                  821424,
                  1742433029000
                ]
              ],
              "datasetInfos": [],
              "dbfsResultPath": null,
              "isJsonSchema": true,
              "metadata": {
                "isDbfsCommandResult": false
              },
              "overflow": false,
              "plotOptions": {
                "customPlotOptions": {},
                "displayType": "table",
                "pivotAggregation": null,
                "pivotColumns": null,
                "xColumns": null,
                "yColumns": null
              },
              "removedWidgets": [],
              "schema": [
                {
                  "metadata": "{}",
                  "name": "path",
                  "type": "\"string\""
                },
                {
                  "metadata": "{}",
                  "name": "name",
                  "type": "\"string\""
                },
                {
                  "metadata": "{}",
                  "name": "size",
                  "type": "\"long\""
                },
                {
                  "metadata": "{}",
                  "name": "modificationTime",
                  "type": "\"long\""
                }
              ],
              "type": "table"
            }
          }
        }
      ],
      "source": [
        "%fs ls dbfs:/FileStore/tables/Anac/V_OCORRENCIA_AMPLA.json"
      ]
    },
    {
      "cell_type": "code",
      "execution_count": null,
      "metadata": {
        "application/vnd.databricks.v1+cell": {
          "cellMetadata": {
            "byteLimit": 2048000,
            "rowLimit": 10000
          },
          "inputWidgets": {},
          "nuid": "fa38625e-04ea-41dd-84c7-e1b164c4c1de",
          "showTitle": false,
          "tableResultSettingsMap": {},
          "title": ""
        },
        "id": "veTgEU5PGxmB",
        "outputId": "d0397b99-14ed-4a6f-9fc2-1b6f24059f91"
      },
      "outputs": [
        {
          "output_type": "stream",
          "name": "stdout",
          "text": [
            "Out[60]: DataFrame[Aerodromo_de_Destino: string, Aerodromo_de_Origem: string, CLS: string, Categoria_da_Aeronave: string, Classificacao_da_Ocorrência: string, Danos_a_Aeronave: string, Data_da_Ocorrencia: string, Fase_da_Operacao: string, Hora_da_Ocorrência: string, ICAO: string, Ilesos_Passageiros: string, Ilesos_Tripulantes: string, Latitude: string, Lesoes_Desconhecidas_Passageiros: int, Lesoes_Desconhecidas_Terceiros: int, Lesoes_Desconhecidas_Tripulantes: int, Lesoes_Fatais_Passageiros: int, Lesoes_Fatais_Terceiros: int, Lesoes_Fatais_Tripulantes: int, Lesoes_Graves_Passageiros: int, Lesoes_Graves_Terceiros: int, Lesoes_Graves_Tripulantes: int, Lesoes_Leves_Passageiros: int, Lesoes_Leves_Terceiros: int, Lesoes_Leves_Tripulantes: int, Longitude: string, Matricula: string, Modelo: string, Municipio: string, Nome_do_Fabricante: string, Numero_da_Ficha: string, Numero_da_Ocorrencia: string, Numero_de_Assentos: string, Operacao: string, Operador: string, Operador_Padronizado: string, PMD: string, PSSO: string, Regiao: string, Tipo_ICAO: string, Tipo_de_Aerodromo: string, Tipo_de_Ocorrencia: string, UF: string]"
          ]
        }
      ],
      "source": [
        "# vizualizando os dados em formato parquet\n",
        "\n",
        "spark.read.parquet(\"dbfs:/FileStore/tables/Anac/V_OCORRENCIA_AMPLA.json\")"
      ]
    }
  ],
  "metadata": {
    "application/vnd.databricks.v1+notebook": {
      "computePreferences": null,
      "dashboards": [],
      "environmentMetadata": null,
      "inputWidgetPreferences": null,
      "language": "python",
      "notebookMetadata": {
        "mostRecentlyExecutedCommandWithImplicitDF": {
          "commandId": 954960309223806,
          "dataframes": [
            "_sqldf"
          ]
        },
        "pythonIndentUnit": 4
      },
      "notebookName": "projeto ETL Anac",
      "widgets": {}
    },
    "colab": {
      "provenance": []
    }
  },
  "nbformat": 4,
  "nbformat_minor": 0
}